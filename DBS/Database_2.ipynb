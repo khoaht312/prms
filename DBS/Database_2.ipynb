{
  "nbformat": 4,
  "nbformat_minor": 0,
  "metadata": {
    "colab": {
      "provenance": [],
      "authorship_tag": "ABX9TyN+4nEBYTxD2p5i+QEkgG3D",
      "include_colab_link": true
    },
    "kernelspec": {
      "name": "python3",
      "display_name": "Python 3"
    },
    "language_info": {
      "name": "python"
    }
  },
  "cells": [
    {
      "cell_type": "markdown",
      "metadata": {
        "id": "view-in-github",
        "colab_type": "text"
      },
      "source": [
        "<a href=\"https://colab.research.google.com/github/khoaht312/UIT-PREMASTER/blob/main/DSA/Database_2.ipynb\" target=\"_parent\"><img src=\"https://colab.research.google.com/assets/colab-badge.svg\" alt=\"Open In Colab\"/></a>"
      ]
    },
    {
      "cell_type": "markdown",
      "source": [
        "# **Thiết kế cơ sở dữ liệu**\n",
        "\n",
        "**Phân rã lược đồ quan hệ**\n",
        "- Tạo ra một lược đồ cơ sở dữ liệu mới có dạng chuẩn cao hơn lược đồ cơ sở dữ liệu ban đầu. (Bảo toàn thông tin, bảo toàn phụ thuộc hàm).\n",
        "- Định nghĩa: $R = A_1,A_2,...,A_n$ thay bằng một tập $ 𝒑 = R_1,R2_,...,R_k $ trong đó $R_i$ là tập con của $R$ sao cho $R = R_1 ∪ R_2 ∪ ... ∪ R_k$ với các tập $R$ không nhất thiết tách biệt.\n",
        "\n",
        "Ví dụ: $R = MASV,TENSV, DIACHI, MALP, TENLOP$ với $𝒑 = R_1,R_2 $ và $R_1 = MASV, TENSV,DIACHI,MALP$ và $R_2 = MALP, TENLP$\n",
        "\n",
        "\n",
        "**Thiết kế CSDL ở mức Logic (Stage 2)**\n",
        "- Cho cấu trúc quan niệm, kết quả của giai đoạn thiết kế quan niệm như sau:\n",
        "  - **NHANVIEN**(MANV, HOTENNV,MAPH)\n",
        "  - **PHONG**(MAPH,TENPH)\n",
        "  - **DEAN**(MADA,TENDA,MAPH)\n",
        "  - **PHANCONG**(MANV,MADA)\n",
        "\n",
        "- Cấu trúc bảo toàn tính hiệu quả:\n",
        "  - **NHANVIEN**(MANV, HOTENNV,MAPH)\n",
        "  - **PHONG**(MAPH,TENPH)\n",
        "  - **DEAN**(MADA,TENDA)\n",
        "  - **PHUTRACH**(MADA,MAPH)\n",
        "  - **PHANCONG**(MANV,MADA)\n",
        "\n",
        "\n"
      ],
      "metadata": {
        "id": "xIh5Gz9f1Ufa"
      }
    },
    {
      "cell_type": "markdown",
      "source": [],
      "metadata": {
        "id": "FxwYUx-048ot"
      }
    }
  ]
}
