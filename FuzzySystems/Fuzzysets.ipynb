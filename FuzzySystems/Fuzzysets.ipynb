{
  "nbformat": 4,
  "nbformat_minor": 0,
  "metadata": {
    "colab": {
      "provenance": [],
      "authorship_tag": "ABX9TyMYJciA6x7qXTZQIavHPTRC",
      "include_colab_link": true
    },
    "kernelspec": {
      "name": "python3",
      "display_name": "Python 3"
    },
    "language_info": {
      "name": "python"
    }
  },
  "cells": [
    {
      "cell_type": "markdown",
      "metadata": {
        "id": "view-in-github",
        "colab_type": "text"
      },
      "source": [
        "<a href=\"https://colab.research.google.com/github/khoaht312/UIT-PREMASTER/blob/main/FuzzySystems/Fuzzysets.ipynb\" target=\"_parent\"><img src=\"https://colab.research.google.com/assets/colab-badge.svg\" alt=\"Open In Colab\"/></a>"
      ]
    },
    {
      "cell_type": "markdown",
      "source": [
        "# **Fuzzy Sets**"
      ],
      "metadata": {
        "id": "jTWAt0patjK0"
      }
    },
    {
      "cell_type": "markdown",
      "source": [
        "**I. Introduction**\n",
        "\n",
        "Fuzzy sets are an extension of crisp (two-valued) sets to handle the concept of partial truth, which enables the modeling of the uncertainties of natural langauges.\n",
        "\n",
        "Eg: when it is **very** cloudy, it will **most probably** rain"
      ],
      "metadata": {
        "id": "tWPSTKIstl5p"
      }
    },
    {
      "cell_type": "markdown",
      "source": [
        "**II. Formal Definitions**\n",
        "\n",
        "Suppose $X$ is the domain, or universe of discourse, and $x \\in X$ is a specific element of the domain $X$. Then, the fuzzy set $A$ is characterized by a membership mapping function:\n",
        "\n",
        "$ μ_A:X \\to [0,1] $\n",
        "\n",
        "Thefore, for all $x \\in X, \\mu_A(x)$ indicates the certainty to which element $x$ belongs to fuzzy set $A$. For two-valued sets, $μ_A(x)$ is either 0 or 1.\n",
        "\n",
        "Fuzzy sets can be defined for **discrete** (finite) or **continuous** (infinite) domains. The notation used to denote fuzzy sets differ based on the type of domain over which that set is defined.\n",
        "\n",
        "In the case of a discrete domain $X$, the fuzzy set can either be expressed in the form of an $n_x-dimensional$ vector or using the sum notation.\n",
        "\n",
        "If $X=\\{ x_1,x_2,...,x_{n_x} \\}$, then, using set notaiton,<br>\n",
        "$A = \\{(μ_A(x_i)/x_i|x_i \\in X, i = 1,...,n_x\\}$\n",
        "\n",
        "Using sum notation,<br>\n",
        "$A = μ_A(x_1)/x_1 + μ_A(x2)/x_2 + ... | μ_A(x_{n_x})/x_{n_x} = ∑_{i_1}^{n_x} μ_A(x_i)/x_i$\n",
        "\n",
        "where the sum should not be confused with algebraic summation. The use of sum notation above sumply serves as an indication that A is a set of odered pairs. A continuous fuzzy set, $A$, is denoted as:<br>\n",
        "$A= ∫_X μ(x)/x$\n"
      ],
      "metadata": {
        "id": "RL9JM7j5u2TS"
      }
    },
    {
      "cell_type": "markdown",
      "source": [
        "**III. Membership Function**\n",
        "\n",
        "Membership functions for fuzzy sets can be of any shape of type as determined by experts in the domain over which the sets are defined. While desingers of fuzzy sets have much freedom in selecting appropriate membership functions, these functions must satisfy the following constraints:\n",
        "- A membership function must be bounded from below by 0 and from ablove by 1.\n",
        "- The range of a membership function must therefore be [0,1].\n",
        "- For each $x \\in X,μ_A(x)$ must be unique. That is, the same element cannot map to different degrees of membership for the same fuzzy set.\n",
        "\n",
        "\n",
        "**Ví dụ 1:** $X = \\{1,2,3,4,5,6,7,8,9,10,11,12\\}$, $μ_Asmall(1)=1.0,μ_Asmall(2)=1.0,μ_Asmall(3)=0.9,μ_Asmall(4)=0.6,μ_Asmall(5)=0.4,μ_Asmall(6)=0.3,μ_Asmall(7)=0.2,μ_Asmall(8)=0.1,μ_Asmall(u)=0.0,u ≥ 9$.\n",
        "\n",
        "**Tập mờ Small cho biết các số được xem là nhỏ**:\n",
        "$Small =\\{ \\frac{1.0}{1},\\frac{1.0}{2},\\frac{0.9}{3},\\frac{0.6}{4},\\frac{0.4}{5},\\frac{0.3}{6},\\frac{0.2}{7},\\frac{0.1}{8},\\frac{0.0}{9},\\frac{0.0}{10},\\frac{0.0}{11},\\frac{0.0}{12}    \\} $\n",
        "\n",
        "**Ví dụ 2**: Xét tập $X$ gồm 5 học sinh là $x_1,x_2,...,x_5$ tương ứng với điểm 10,5,7,8,9 và $A$ là tập hợp các học sinh khá. Khi đó: $μ_A(10)=1.0,μ_A(5)=0.5,μ_A(7)=0.75,μ_A(8)=0.85,μ_A(9)=0.95$\n",
        "\n",
        "**Tập mờ Khá**:\n",
        "$Good = \\{ \\frac{1.0}{x_1} + \\frac{0.5}{x_2} + \\frac{0.75}{x_3} + \\frac{0.85}{x_4} + \\frac{0.95}{x_5} \\}$\n",
        "\n",
        "**1. Triangular function**\n",
        "\n",
        "$trianglmf(x;a,b,c) = max(min( \\frac{x-a}{b-c}, \\frac{c-x}{c-b},0)$\n",
        "\n",
        "**2. Trapezo function**\n",
        "\n",
        "$trapezomf(x;a,b,c,d) = max(min( \\frac{x-a}{b-a},1, \\frac{d-x}{d-c},0)$\n",
        "\n",
        "**3. Gaussian function**\n",
        "\n",
        "$gaussmf(x;σ,c) = e^{-\\frac{1}{2}(\\frac{x-c}{σ})^2}$\n",
        "\n",
        "**4. Logistic function**\n",
        "\n",
        "$logisticmf(x;a) = \\frac{1}{1+e^{-ax}}$\n"
      ],
      "metadata": {
        "id": "PXbra3t11hhf"
      }
    }
  ]
}