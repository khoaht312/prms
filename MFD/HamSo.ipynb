{
  "nbformat": 4,
  "nbformat_minor": 0,
  "metadata": {
    "colab": {
      "provenance": [],
      "authorship_tag": "ABX9TyNUrFplS0xUHIHGUgLM0ODX",
      "include_colab_link": true
    },
    "kernelspec": {
      "name": "python3",
      "display_name": "Python 3"
    },
    "language_info": {
      "name": "python"
    }
  },
  "cells": [
    {
      "cell_type": "markdown",
      "metadata": {
        "id": "view-in-github",
        "colab_type": "text"
      },
      "source": [
        "<a href=\"https://colab.research.google.com/github/khoaht312/UIT-PREMASTER/blob/main/CAL/HamSo.ipynb\" target=\"_parent\"><img src=\"https://colab.research.google.com/assets/colab-badge.svg\" alt=\"Open In Colab\"/></a>"
      ]
    },
    {
      "cell_type": "markdown",
      "source": [
        "# **Định nghĩa hàm số**\n",
        "Cho $X ⊂ R$ | ánh xạ $f: X \\to R$. Được gọi là hàm số 1 biến số.\n",
        "\n",
        "Tập $X$ được gọi là \"miền xác định\"(MXD).\n",
        "\n",
        "Tập $f(x)$ = {$y∈R,y=f(x)$ với x ∈ $X$}\n",
        "\n",
        "**Hàm chẵn**:  Hàm $f(x) = f(-x)$ (đối xứng qua trục tung ($Oy$).\n",
        "\n",
        "**Hàm lẻ**: Hàm $f(x) = -f(-x)$ (đối xứng qua gốc tọa độ ($O$).\n",
        "\n",
        "**Hàm số đơn ánh**:\n",
        "${\\displaystyle \\forall x_{1},x_{2}\\in {\\mathit {X}}\\,\\!;x_{1}\\neq x_{2}\\Rightarrow f(x_{1})\\neq f(x_{2})}$\n",
        "\n",
        "**Hàm số toàn ánh**: ${\\displaystyle \\forall y\\in Y,\\exists x\\in X:f(x)=y}$\n",
        "\n",
        "**Hàm ngược**:\n",
        "Cho hàm  ${\\displaystyle f\\colon X\\to Y}$, nghịch đảo ${\\displaystyle f^{-1}\\colon Y\\to X}$ được mô tả như sau: hàm gửi mỗi phần tử ${\\displaystyle y\\in Y}$ sang duy nhất một phần tử ${\\displaystyle x\\in X}$ sao cho f(x) = y.\n",
        "\n"
      ],
      "metadata": {
        "id": "UIm9HxC7zpM-"
      }
    },
    {
      "cell_type": "markdown",
      "source": [
        "# **Giới hạn của hàm số**\n",
        "\n",
        "**Định nghĩa giới hạn của hàm số**\n",
        "\n",
        "Cho hàm số $f(x)$ xác định trên $(a;b)$. Ta nói $f(x)$ có giới hạn là $L$ (Hữu hạn) khi $x \\to x_0 \\in [a;b]$, ký hiệu $lim_{x \\to x_0} f(x) = L$ nếu $\\forall ϵ >0$ cho trước, ta tìm được $δ>0$: $0 < |x-x_0| < δ$ thì $f(x) - L| < ϵ$\n",
        "\n",
        "**Giới hạn tại vô cùng**\n",
        "\n",
        "$f(x)$ có giới hạn $L$ khi $x \\to +\\infty$, ký hiệu $\\lim_{x \\to +∞} f(x) = L $, nếu $\\forall ϵ > 0 $ cho trước, ta tìm được $N > 0$ đủ lớn sao cho khi $x<N$ thì $|f(x)-L| < ϵ$\n",
        "\n",
        "**Giới hạn vô cùng**\n",
        "\n",
        "$f(x)$ có giới hạn là $+∞$ khi $x \\to x_0$, ký hiệu $lim_{x \\to x_0} f(x) = + ∞$, nếu $∀M >0$ cho trước, ta tìm được $δ>0$: $0<|x-x_0|<δ$ thì $f(x)>M$\n",
        "\n",
        "**Giới hạm một phía**\n",
        "\n",
        "Nếu $f(x)$ có giới hạn là L (có thể là vô cùng) khi $x \\to x_0$ với $x>x_0$ thì ta nói $f(x)$ có **giới hạn phải** tại $x_0$ hữu hạn, ký hiệu $lim_{x \\to x_0^+} f(x) = L$.\n",
        "\n",
        "Nếu $f(x)$ có giới hạn là L (có thể là vô cùng) khi $x \\to x_0$ với $x<x_0$ thì ta nói $f(x)$ có **giới hạn trái** tại $x_0$ hữu hạn, ký hiệu $lim_{x \\to x_0^-} f(x) = L$.\n",
        "\n",
        "**Tính chất**\n",
        "\n",
        "Cho $lim_{x \\to x_0} f(x) = a$ và $lim_{x \\to x_0} g(x) = b$\n",
        "\n",
        "$lim_{x \\to x_0} [C.f(x)] = C.a$ (C là hằng số).\n",
        "\n",
        "$lim_{x \\to x_0} [f(x)+g(x)] = a+b$\n",
        "\n",
        "\n",
        "$lim_{x \\to x_0} [(x)-g(x)] = a-b$\n",
        "\n",
        "\n",
        "$lim_{x \\to x_0} [f(x)g(x)] = ab$\n",
        "\n",
        "\n",
        "$lim_{x \\to x_0} \\frac{f(x)}{g(x)} = \\frac{a}{b}$\n"
      ],
      "metadata": {
        "id": "gpAbMKes6axm"
      }
    }
  ]
}
